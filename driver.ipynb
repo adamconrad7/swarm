{
 "cells": [
  {
   "cell_type": "code",
   "execution_count": 1,
   "id": "2b0c53ab-a170-4dd2-9355-a796a2357130",
   "metadata": {
    "tags": []
   },
   "outputs": [],
   "source": [
    "from matplotlib import pyplot as plt\n",
    "import numpy as np\n",
    "import json\n",
    "import ipywidgets as widgets\n",
    "import random"
   ]
  },
  {
   "cell_type": "code",
   "execution_count": 152,
   "id": "43965bc9-b687-492f-b21d-7770fb535e46",
   "metadata": {
    "tags": []
   },
   "outputs": [],
   "source": [
    "class Ant():\n",
    "    def __init__(self): \n",
    "        self.pos = np.zeros((2,))\n",
    "        # self.pos = np.ones((2,))\n",
    "        \n",
    "        # self.v = np.ones((2,))\n",
    "        self.v = np.array((.0005, .0005))\n",
    "        \n",
    "        # self.v /= 500\n",
    "        # self.v *= -1\n",
    "        # self.pos *= -1\n",
    "        \n",
    "        \n",
    "        self.has_food = False\n",
    "        self.accl_scale = .0001\n",
    "        \n",
    "    def move(self):\n",
    "    # ant checks for pheromones\n",
    "        \n",
    "        # print(self.pos)\n",
    "        # assert(self.v < 1)\n",
    "        self.pos += self.v\n",
    "    \n",
    "    ## return position for the query to be processed by pher. grid\n",
    "    def check_phermones(self):\n",
    "        return self.pos\n",
    "    \n",
    "    def check_food(self):\n",
    "        return self.has_food\n",
    "    \n",
    "    def set_food(self):\n",
    "        self.has_food = True\n",
    "    \n",
    "    def update(self, phermone):\n",
    "        rng = np.random.default_rng()\n",
    "        accl = 2 * rng.random((2, 1)) -1\n",
    "        # accl = np.random.randn(2, 1)\n",
    "        accl /= np.linalg.norm(accl, axis=0)\n",
    "        accl  *= self.accl_scale\n",
    "        # print(\"phermone\",phermone)\n",
    "        # print(np.linalg.norm(phermone, axis=0))\n",
    "        # print(\"phermone/np.linalg.norm(phermone)\", phermone/np.linalg.norm(phermone, axis=0))\n",
    "        # print(np.linalg.norm(phermone/np.linalg.norm(phermone, axis=0)))\n",
    "        # print('\\n\\n')\n",
    "        # print(\"phermone\",phermone)\n",
    "        # print(np.squeeze(accl))/\n",
    "        # phermone /= np.linalg.norm(phermone, axis=0)\n",
    "        \n",
    "        # print('self.v:',self.v)\n",
    "        \n",
    "        self.v += np.squeeze(accl)\n",
    "        # self.v += np.squeeze(phermone)\n",
    "        \n",
    "        # self.v += phermone\n",
    "        \n",
    "        # print('self.v:',self.v)\n",
    "        # self.v /= np.linalg.norm(self.v, axis=0)\n",
    "        # self.v *= self.accl_scale\n",
    "        # print('np.linalg.norm(self.v, axis=0)',np.linalg.norm(self.v, axis=0))\n",
    "        \n",
    "        # print('self.v:',self.v, '\\n\\n')\n",
    "        self.move()\n",
    "        \n"
   ]
  },
  {
   "cell_type": "code",
   "execution_count": 161,
   "id": "fececd59-48dc-473a-a052-67a8ea55db20",
   "metadata": {
    "tags": []
   },
   "outputs": [],
   "source": [
    "class Grid:\n",
    "    \n",
    "    # def __init__(steps, xdim, ydim, decay, grid, size, phermone_grid, config_path, self):\n",
    "    def __init__(self, steps, xdim, ydim, decay, scale, phermone_granularity):\n",
    "    \n",
    "        self.steps = steps\n",
    "        self.xdim = xdim \n",
    "        self.ydim = ydim \n",
    "        self.decay = decay\n",
    "        self.size = scale\n",
    "        # self.grid = np.zeros((self.ydim, \n",
    "        #                       self.xdim,\n",
    "        #                      3\n",
    "        #                      ))\n",
    "        \n",
    "        # self.grid[0] == x indicies\n",
    "        self.x_inds = np.linspace(-1,1,self.xdim-1)\n",
    "        self.y_inds = np.linspace(-1,1,self.ydim-1)\n",
    "        \n",
    "        # self.grid = np.meshgrid(self.x_inds, self.y_inds)\n",
    "        \n",
    "        self.position_map = np.zeros((self.ydim, self.xdim, 1))\n",
    "        # self.phermone_map = np.zeros((self.ydim, self.xdim, 2))\n",
    "        self.phermone_map_to_food = np.zeros((self.ydim, self.xdim, 2))\n",
    "        self.phermone_map_to_home = np.zeros((self.ydim, self.xdim, 2))\n",
    "        self.food_map = np.zeros((self.ydim, self.xdim, 1))\n",
    "        self.food_map[int(self.ydim/8):, :int(self.ydim/8)] = True\n",
    "        \n",
    "        \n",
    "        \n",
    "#         print('self.x_inds.shape', self.x_inds.shape)\n",
    "#         print('pos map shape',  self.position_map.shape)\n",
    "#         print(\"self.phermone_map_to_home[20,23]\", self.phermone_map_to_home[20,23])\n",
    "        \n",
    "    # Given a continous position within (-1, 1), return the indicies of the grid cell containing the position.\n",
    "    \n",
    "    def pos_to_pixel(self, pos):\n",
    "        \n",
    "        if pos[0] > 1:\n",
    "            pos[0] -= 2\n",
    "        elif pos[0] < -1:\n",
    "            pos[0] += 2\n",
    "        elif pos[1] > 1:\n",
    "            pos[1] -= 2\n",
    "        elif pos[1] < -1:\n",
    "            pos[1] += 2\n",
    "\n",
    "        x_ind = np.digitize(pos[1], self.x_inds)\n",
    "        y_ind = np.digitize(pos[0], self.y_inds)\n",
    "        \n",
    "        # print('got ant at:', pos)\n",
    "        # print('converted position to:', x_ind, y_ind)\n",
    "\n",
    "        return (y_ind, x_ind)\n",
    "    \n",
    "    def draw(self, ant, val):\n",
    "        x, y = self.pos_to_pixel(ant.pos)\n",
    "        x *= -1\n",
    "        # print(\"ant.v\", ant.v)\n",
    "\n",
    "        if ant.has_food:\n",
    "            self.phermone_map_to_food[x,y] += -1*ant.v  \n",
    "        else:\n",
    "            self.phermone_map_to_home[x,y] += -1*ant.v  \n",
    "            # print(\"self.phermone_map_to_home[x,y]\", self.phermone_map_to_home[x,y], '\\n\\n')\n",
    "            \n",
    "            \n",
    "           \n",
    "        self.position_map[x,y] = val  \n",
    "        \n",
    "        \n",
    "\n",
    "        \n",
    "        \n",
    "    ### TODO Implement \n",
    "    def decayfunc(self):\n",
    "        \n",
    "        x_inds, y_inds, _ = np.nonzero(self.position_map)\n",
    "        self.position_map[x_inds, y_inds]  -=  (self.decay) / 255\n",
    "        self.position_map = np.where(self.position_map < 0.0, 0.0, self.position_map)\n",
    "        \n",
    "        #Phermones are 2-D\n",
    "#         x_inds, y_inds, _ = np.nonzero(self.phermone_map_to_home)\n",
    "#         self.phermone_map_to_home[x_inds, y_inds]  -=  (self.decay/5) / 255\n",
    "#         # self.phermone_map_to_home = np.where(self.phermone_map_to_home < 0.0, 0.0, self.phermone_map_to_home)\n",
    "#         # self.phermone_map_to_home = np.where(self.phermone_map_to_home > 1.0, 1.0, self.phermone_map_to_home)\n",
    "        \n",
    "        \n",
    "#         x_inds, y_inds, _ = np.nonzero(self.phermone_map_to_food)\n",
    "#         self.phermone_map_to_food[x_inds, y_inds]  -=  (self.decay/5) / 255\n",
    "        # self.phermone_map_to_food = np.where(self.phermone_map_to_food < 0.0, 0.0, self.phermone_map_to_food)\n",
    "        # self.phermone_map_to_food = np.where(self.phermone_map_to_food > 1.0, 1.0, self.phermone_map_to_food)\n",
    "        \n",
    "        # x_inds, y_inds, _ = np.nonzero(self.phermone_map)\n",
    "        # self.phermone_map[x_inds, y_inds]  -=  (self.decay * .001) / 255\n",
    "        # self.phermone_map = np.where(self.phermone_map < 0.0, 0.0, self.phermone_map)\n",
    "        # self.phermone_map = np.where(self.phermone_map > 1.0, 1.0, self.phermone_map)\n",
    "        \n",
    "        \n",
    "\n",
    "    def get_phermone(self, ant):\n",
    "        \n",
    "        x, y = self.pos_to_pixel(ant.pos)\n",
    "        v_phermone = copy.deepcopy(self.phermone_map_to_food[x, y])\n",
    "        # if np.any(v_phermone):\n",
    "        #     print('phermone at', x, y, ':', v_phermone)\n",
    "            \n",
    "        \n",
    "\n",
    "        # print(\"v_phermone\",v_phermone)\n",
    "#         if self.phermone_map_to_food[x, y]:\n",
    "#             v_phermone = self.phermone_map_to_food[x, y]\n",
    "\n",
    "#             print(\"v_phermone\",v_phermone)\n",
    "            \n",
    "#         v_phermone = self.phermone_map_to_food[x, y]\n",
    "        \n",
    "        if self.food_map[x,y]:\n",
    "            # print(\"found food\")\n",
    "            ant.set_food()\n",
    "            \n",
    "        if ant.has_food:\n",
    "            v_phermone = self.phermone_map_to_home[x, y]\n",
    "\n",
    "        return v_phermone\n",
    "\n",
    "    def binarize_phermone_map(self, ph_map):\n",
    "        \n",
    "        # agg = np.sum(ph_map, axis=-1)\n",
    "        agg = 10 * np.linalg.norm(ph_map, axis=-1)\n",
    "        # print(agg[50,50])\n",
    "        # print(agg[:,:,np.newaxis].shape)\n",
    "        \n",
    "        return agg[:,:,np.newaxis]\n",
    "        "
   ]
  },
  {
   "cell_type": "code",
   "execution_count": 162,
   "id": "5162a2a1-4646-4ba4-b6ed-8a14c714d98e",
   "metadata": {
    "tags": []
   },
   "outputs": [],
   "source": [
    "\n",
    "import copy\n",
    "def simulate(grid, colony): \n",
    "    sim_accum = []\n",
    "    food_accum = []\n",
    "    home_accum = []\n",
    "    \n",
    "\n",
    "    for t in range(grid.steps):\n",
    "        for a in colony:\n",
    "          \n",
    "            # check for phermone vector\n",
    "            v_phermone=grid.get_phermone(a)\n",
    "            # print(a.v)\n",
    "            # print(\"in main:\",v_phermone)\n",
    "            a.update(v_phermone)\n",
    "            grid.draw(a, 1)\n",
    "            \n",
    "\n",
    "\n",
    "        # We should save both phermone maps so we can watch the directions evolve over time using a quiver plot\n",
    "        home_accum.append(grid.phermone_map_to_home)\n",
    "        food_accum.append(grid.phermone_map_to_food)\n",
    "        \n",
    "        \n",
    "        # Here we will binarize both phermone maps by aggregating their component vectors # This is done purely for visualization purposes. \n",
    "        # print('grid.phermone_map_to_home.shape',grid.phermone_map_to_home.shape)\n",
    "        home_agg = grid.binarize_phermone_map(grid.phermone_map_to_home)\n",
    "        food_agg = grid.binarize_phermone_map(grid.phermone_map_to_food)\n",
    "\n",
    "        \n",
    "        # Here we will stack the position and phermone maps as color channel\n",
    "        frame = np.concatenate((copy.deepcopy(grid.position_map), food_agg, home_agg),axis=-1)\n",
    "        sim_accum.append(frame)\n",
    "        \n",
    "        grid.decayfunc()\n",
    "\n",
    "    sim_accum = np.array(sim_accum)\n",
    "    return sim_accum\n"
   ]
  },
  {
   "cell_type": "code",
   "execution_count": null,
   "id": "792de515-33a4-4409-9a4c-dd7000974ef9",
   "metadata": {
    "tags": []
   },
   "outputs": [],
   "source": [
    "%matplotlib widget\n",
    "# %matplotlib auto\n",
    "# g = Grid('config.json')\n",
    "f = open('config.json', \"rb\")\n",
    "config = json.load(f)\n",
    "\n",
    "g = Grid(ydim= config['ydim'], \n",
    "         xdim= config['xdim'],\n",
    "        decay=config['decay'],\n",
    "         scale=config['scale'],\n",
    "         steps=config['steps'],\n",
    "         phermone_granularity=config['phermone_granularity'])\n",
    "\n",
    "\n",
    "colony = []\n",
    "for i in range(0, 1000):\n",
    "    colony.append(Ant())\n",
    "\n",
    "frames = simulate(g, colony)\n",
    "print(frames[0].shape)\n",
    "\n",
    "def update(change):\n",
    "    im.set_data(frames[change['new']])\n",
    "    fig.canvas.draw_idle()\n",
    "    \n",
    "    \n",
    "with plt.ioff():\n",
    "    fig = plt.figure()\n",
    "    print(frames[0].shape)\n",
    "im = plt.imshow(frames[0])\n",
    "slider = widgets.IntSlider(value=0, min=0, max=frames.shape[0]-1)\n",
    "slider.observe(update, names='value')\n",
    "widgets.VBox([slider, fig.canvas])"
   ]
  },
  {
   "cell_type": "code",
   "execution_count": null,
   "id": "c10b1868-0c58-4710-bce3-ea6962df6284",
   "metadata": {
    "tags": []
   },
   "outputs": [],
   "source": [
    "%matplotlib widget\n",
    "\n",
    "with plt.ioff():\n",
    "    fig = plt.figure()\n",
    "    print(frames[0].shape)\n",
    "im = plt.imshow(frames[0])\n",
    "slider = widgets.IntSlider(value=0, min=0, max=frames.shape[0]-1)\n",
    "slider.observe(update, names='value')\n",
    "widgets.VBox([slider, fig.canvas])"
   ]
  },
  {
   "cell_type": "code",
   "execution_count": 7,
   "id": "3814d23d-0568-4394-8cd5-1d526c774c4a",
   "metadata": {
    "tags": []
   },
   "outputs": [],
   "source": [
    "# %timeit simulate(g, colony)"
   ]
  },
  {
   "cell_type": "code",
   "execution_count": 8,
   "id": "7bfbd2ee-8d22-4fd4-b375-cfb80c42a1db",
   "metadata": {},
   "outputs": [],
   "source": [
    "# always have x and y coordinates within -1<x<1\n",
    "# coordinates represent \n",
    "# then conversion to pixels is simple "
   ]
  },
  {
   "cell_type": "code",
   "execution_count": 9,
   "id": "ac2e3727-43c5-4bb9-b041-0cd737a4e77a",
   "metadata": {
    "tags": []
   },
   "outputs": [],
   "source": [
    "# pheromones is array of velocity vectors. This array may be smaller than position grid and should have dimensions that are factors of corresponding position grid.\n",
    "# should support the following functions: \n",
    "#     ant position (float x, y between -1, 1) -> phermone vector"
   ]
  },
  {
   "cell_type": "code",
   "execution_count": 10,
   "id": "b31e190c-c739-40d9-8b36-9ff03a791727",
   "metadata": {
    "tags": []
   },
   "outputs": [],
   "source": [
    "# for each ant:\n",
    "    # check phermone map at current pos\n",
    "    # if phemrone, use phermone to update position \n",
    "    # else update position randomly\n",
    "    # update phermone map"
   ]
  },
  {
   "cell_type": "code",
   "execution_count": 108,
   "id": "9fd13ad6-30c3-4b67-aabc-db93db8a5676",
   "metadata": {},
   "outputs": [
    {
     "data": {
      "text/plain": [
       "array([[-0.77314862],\n",
       "       [-0.27549747]])"
      ]
     },
     "execution_count": 108,
     "metadata": {},
     "output_type": "execute_result"
    }
   ],
   "source": [
    "#data structures\n",
    "\n",
    "# grids\n",
    "\n",
    "##ant positions\n",
    "# pos \n",
    "\n",
    "## \n",
    "# food_str \n",
    "# home_str\n",
    "\n",
    "# food_data\n",
    "# home_data\n",
    "np.random.randn(2, 1)"
   ]
  },
  {
   "cell_type": "code",
   "execution_count": 109,
   "id": "0d1603f6-35f8-42e3-aa4a-d0793b9cab92",
   "metadata": {
    "tags": []
   },
   "outputs": [
    {
     "data": {
      "text/plain": [
       "array([0.74057393, 0.91010888])"
      ]
     },
     "execution_count": 109,
     "metadata": {},
     "output_type": "execute_result"
    }
   ],
   "source": [
    "np.random.rand(2)"
   ]
  },
  {
   "cell_type": "code",
   "execution_count": 125,
   "id": "2ebd2f93-ee4b-4aec-bd6f-5e990ebf97e8",
   "metadata": {
    "tags": []
   },
   "outputs": [
    {
     "data": {
      "text/plain": [
       "array([[-0.56266367],\n",
       "       [ 0.64120179]])"
      ]
     },
     "execution_count": 125,
     "metadata": {},
     "output_type": "execute_result"
    }
   ],
   "source": [
    "# Three-by-two array of random numbers from [-5, 0):\n"
   ]
  },
  {
   "cell_type": "code",
   "execution_count": null,
   "id": "c8a00059-6a4a-4a46-9dd8-81909aa6a531",
   "metadata": {},
   "outputs": [],
   "source": []
  }
 ],
 "metadata": {
  "kernelspec": {
   "display_name": "Python 3 (ipykernel)",
   "language": "python",
   "name": "python3"
  },
  "language_info": {
   "codemirror_mode": {
    "name": "ipython",
    "version": 3
   },
   "file_extension": ".py",
   "mimetype": "text/x-python",
   "name": "python",
   "nbconvert_exporter": "python",
   "pygments_lexer": "ipython3",
   "version": "3.11.3"
  }
 },
 "nbformat": 4,
 "nbformat_minor": 5
}
