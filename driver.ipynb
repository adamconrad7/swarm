{
 "cells": [
  {
   "cell_type": "code",
   "execution_count": 1,
   "id": "2b0c53ab-a170-4dd2-9355-a796a2357130",
   "metadata": {
    "jupyter": {
     "source_hidden": true
    },
    "tags": []
   },
   "outputs": [],
   "source": [
    "from matplotlib import pyplot as plt\n",
    "import numpy as np\n",
    "import json\n",
    "import ipywidgets as widgets\n"
   ]
  },
  {
   "cell_type": "code",
   "execution_count": 2,
   "id": "41dcc81b-f167-43e3-b99f-12c6f5636c87",
   "metadata": {
    "jupyter": {
     "source_hidden": true
    },
    "tags": []
   },
   "outputs": [],
   "source": [
    "class Ant():\n",
    "    def __init__(self): \n",
    "        self.pos = np.zeros((2,))\n",
    "        self.v = np.ones((2,))\n",
    "        self.v /= 500\n",
    "        self.has_food = False\n",
    "        \n",
    "    def move(self):\n",
    "    # ant checks for pheromones\n",
    "        \n",
    "        # print(self.pos)\n",
    "        # assert(self.v < 1)\n",
    "        self.pos += self.v\n",
    "    \n",
    "    ## return position for the query to be processed by pher. grid\n",
    "    def check_phermones(self):\n",
    "        return self.pos\n",
    "    \n",
    "    def check_food(self):\n",
    "        return self.has_food\n",
    "    \n",
    "    def update(self):\n",
    "        accl = np.random.randn(2, 1)\n",
    "        accl /= np.linalg.norm(accl, axis=0)\n",
    "        accl /= 10000\n",
    "        # print(np.squeeze(accl))/\n",
    "        self.v += np.squeeze(accl)\n",
    "        self.move()\n",
    "        \n"
   ]
  },
  {
   "cell_type": "code",
   "execution_count": 3,
   "id": "fececd59-48dc-473a-a052-67a8ea55db20",
   "metadata": {
    "tags": []
   },
   "outputs": [],
   "source": [
    "class Grid:\n",
    "    \n",
    "    # def __init__(steps, xdim, ydim, decay, grid, size, phermone_grid, config_path, self):\n",
    "    def __init__(self, steps, xdim, ydim, decay, scale, phermone_granularity):\n",
    "    \n",
    "        self.steps = steps\n",
    "        self.xdim = xdim \n",
    "        self.ydim = ydim \n",
    "        self.decay = decay\n",
    "        self.size = scale\n",
    "        # self.grid = np.zeros((self.ydim, \n",
    "        #                       self.xdim,\n",
    "        #                      3\n",
    "        #                      ))\n",
    "        \n",
    "        # self.grid[0] == x indicies\n",
    "        self.x_inds = np.linspace(-1,1,self.xdim-1)\n",
    "        self.y_inds = np.linspace(-1,1,self.ydim-1)\n",
    "        \n",
    "        # self.grid = np.meshgrid(self.x_inds, self.y_inds)\n",
    "        \n",
    "        self.position_map = np.zeros((self.ydim, self.xdim, 1))\n",
    "        self.phermone_map = np.zeros((self.ydim, self.xdim, 2))\n",
    "        print('self.x_inds.shape', self.x_inds.shape)\n",
    "        \n",
    "        print('pos map shape',  self.position_map.shape)\n",
    "        \n",
    "        \n",
    "        # self.x_inds, self.y_inds = np.meshgrid(np.linspace(-1,1,self.xdim), np.linspace(-1,1,self.ydim))\n",
    "#         self.phermone_granularity = phermone_granularity \n",
    "#         self.phermone_grid = np.zeros((self.xdim//self.phermone_granularity,\n",
    "#                                     self.ydim//self.phermone_granularity,\n",
    "#                                       2))\n",
    "        \n",
    "    \n",
    "    # Given a continous position within (-1, 1), return the indicies of the grid cell containing the position.\n",
    "    \n",
    "    def pos_to_pixel(self, pos):\n",
    "        # if pos[0] > 1:\n",
    "        #     pos[0] -= 2\n",
    "        # elif pos[0] < -1:\n",
    "        #     pos[0] += 2\n",
    "        # elif pos[1] > 1:\n",
    "        #     pos[1] -= 2\n",
    "        # elif pos[1] < -1:\n",
    "        #     pos[1] += 2\n",
    "        #     # print(pos)\n",
    "        # x = pos[0] * (self.xdim //2) + (self.xdim //2)\n",
    "        # y = pos[1] * (self.ydim //2) + (self.ydim //2)\n",
    "        \n",
    "#         point = np.array([x, y])\n",
    "#         index = np.round((point - grid_offset) / grid_spacing)\n",
    "\n",
    "#         To convert back into grid coordinates:\n",
    "\n",
    "#         grid_offset + index * grid_spacing\n",
    "\n",
    "        x_ind = np.digitize(pos[1], self.x_inds)\n",
    "        y_ind = np.digitize(pos[0], self.y_inds)\n",
    "        \n",
    "        # print('got ant at:', pos)\n",
    "        # print('converted position to:', x_ind, y_ind)\n",
    "\n",
    "        return (y_ind, x_ind)\n",
    "    \n",
    "    # modify grid here\n",
    "    def draw(self, pos, val):\n",
    "        # draw ants\n",
    "        x, y = self.pos_to_pixel(pos)\n",
    "        # print('converted position to:', x, y)\n",
    "\n",
    "        x *= -1\n",
    "        # self.grid[int(y-self.size/2):int(y+self.size/2), \n",
    "        #           int(x-self.size/2):int(x+self.size/2), \n",
    "        #           0\n",
    "        #          ] = val   \n",
    "        self.position_map[x,y] = val  \n",
    "        \n",
    "        # draw phermones\n",
    "        # need to transform (expand) phermone cells to grid cells using phermone granularity\n",
    "#         grid_pos = self.pos_to_pixel(pos)\n",
    "        \n",
    "#         self.grid[\n",
    "#           int(-1*grid_pos[1]-self.size/2):int(-1*grid_pos[1]+self.size/2), \n",
    "#           int(grid_pos[0]-self.size/2):int(grid_pos[0]+self.size/2), \n",
    "#           1\n",
    "#          ] = val   \n",
    "        # phermone_coords = (grid_pos[0]/self.phermone_granularity, grid_pos[1]/self.phermone_granularity)\n",
    "        # x_ph, y_ph = int(phermone_coords[0]), int(phermone_coords[1])\n",
    "        # self.phermone_grid[x_ph, y_ph] = 1\n",
    "        \n",
    "        \n",
    "    ### TODO Implement \n",
    "    def decayfunc(self):\n",
    "        \n",
    "        # print(np.argwhere(self.position_map))\n",
    "#         print(np.argwhere(self.position_map)[0])\n",
    "#         print(np.argwhere(self.position_map)[0,:-1])\n",
    "        \n",
    "        \n",
    "        \n",
    "        # x_inds, y_inds = np.argwhere(self.position_map)[0,:-1]\n",
    "        # print(np.nonzero(self.position_map))\n",
    "        \n",
    "        # print(np.nonzero(self.position_map)[0])\n",
    "        \n",
    "        x_inds, y_inds, _ = np.nonzero(self.position_map)\n",
    "        \n",
    "        \n",
    "        self.position_map[x_inds, y_inds]  -=  (self.decay) / 255\n",
    "        # print('non-zero value after decay: ', self.position_map[x_inds, y_inds])\n",
    "        ## STILL NEED TO CLIP NEGATIVES TO 0\n",
    "        self.position_map = np.where(self.position_map < 0.0, 0.0, self.position_map)\n",
    "        \n",
    "\n",
    "        \n",
    "        # inds0 = np.nonzero(self.grid[...,0])\n",
    "        # inds1 = np.nonzero(self.grid[...,1])\n",
    "        # self.grid[inds0[0], inds0[1], 0] -=  (self.decay) / 255\n",
    "        # self.grid[inds1[0], inds1[1], 1] -=  (self.decay) / (255*2)\n",
    "        # self.grid[...,0] = np.where(self.grid[...,0] < 0.0, 0.0, self.grid[...,0])\n",
    "        # self.grid[...,1] = np.where(self.grid[...,1] < 0.0, 0.0, self.grid[...,1])\n",
    "        # self.grid[...,2] = np.where(self.grid[...,2] < 0.0, 0.0, self.grid[...,2])\n",
    "        \n",
    "        ## Why is this line necessarry? without it seems every frame is a duplicate of the final frame\n",
    "        # self.grid = np.where(self.grid <0.0, 0.0, self.grid)\n",
    "        \n",
    "        \n",
    "        \n",
    "        \n",
    "        \n",
    "        \n",
    "    def process_pos(self, pos, full):\n",
    "        \n",
    "        # get current phermone vector, or create one if we're the first to be here\n",
    "    \n",
    "        # phermone_coords = (grid_pos[0]/self.phermone_granularity, grid_pos[1]/self.phermone_granularity)\n",
    "        # x_ph, y_ph = int(phermone_coords[0]), int(phermone_coords[1])\n",
    "        \n",
    "        # v_phermone = self.phermone_grid[x_ph, y_ph]\n",
    "        \n",
    "        grid_pos = self.pos_to_pixel(pos)\n",
    "        v_phermone = self.phermone_map[grid_pos]\n",
    "        # print('processing ant at:', grid_pos)\n",
    "        # print('phermones here:', v_phermone)\n",
    "        \n",
    "#         print('pos', pos)\n",
    "#         print('grid_pos', grid_pos)\n",
    "#         print('x_ph, y_ph', x_ph, y_ph)\n",
    "#         print('v_phermone', v_phermone)\n",
    "        \n",
    "        \n",
    "        # print(v_phermone)\n",
    "        \n",
    "        # If not been here, set to MAX_STREGTH\n",
    "        # if v_phermone == 0:\n",
    "        if np.all(v_phermone):\n",
    "        \n",
    "            self.phermone_grid[x_ph, y_ph] = 1\n",
    "        \n",
    "        # if had been here, return vector\n",
    "        else:\n",
    "            # print('been here!')\n",
    "            return v_phermone\n",
    "        \n",
    "        # print(np.nonzero(self.phermone_grid[x_ph, y_ph]))\n",
    "        # print(len(np.nonzero(self.phermone_grid[x_ph, y_ph])))\n",
    "        # if len(self.\n",
    "#         if full:\n",
    "#             #set phermone for food\n",
    "#         else\n",
    "        \n",
    "#             # set phermone for home\n",
    "        # print(\n",
    "        # print(grid_pos)\n",
    "        # print(phermone_coords)\n",
    "        # print('\\n\\n')\n",
    "        \n",
    "        \n",
    "        "
   ]
  },
  {
   "cell_type": "code",
   "execution_count": 4,
   "id": "5162a2a1-4646-4ba4-b6ed-8a14c714d98e",
   "metadata": {
    "tags": []
   },
   "outputs": [
    {
     "name": "stdout",
     "output_type": "stream",
     "text": [
      "self.x_inds.shape (399,)\n",
      "pos map shape (300, 400, 1)\n"
     ]
    }
   ],
   "source": [
    "import copy\n",
    "def simulate(grid, colony): \n",
    "    frames = []\n",
    "\n",
    "    for t in range(grid.steps):\n",
    "        for a in colony:\n",
    "          \n",
    "            # check for phermone vector\n",
    "            grid.process_pos(a.check_phermones(), a.check_food())\n",
    "            \n",
    "            grid.draw(a.pos, 1)\n",
    "            a.update()\n",
    "        \n",
    "        # here we will stack the position and phermone maps as color channels (r, g, b) == (pos_history, phermone_x, phermone_y)\n",
    "        frames.append(copy.deepcopy(grid.position_map))\n",
    "        grid.decayfunc()\n",
    "\n",
    "    frames = np.array(frames)\n",
    "    return frames\n",
    "\n",
    "\n",
    "# g = Grid('config.json')\n",
    "f = open('config.json', \"rb\")\n",
    "config = json.load(f)\n",
    "\n",
    "g = Grid(ydim= config['ydim'], \n",
    "         xdim= config['xdim'],\n",
    "        decay=config['decay'],\n",
    "         scale=config['scale'],\n",
    "         steps=config['steps'],\n",
    "         phermone_granularity=config['phermone_granularity'])\n",
    "\n",
    "\n",
    "colony = []\n",
    "for i in range(0, 1000):\n",
    "    colony.append(Ant())\n",
    "\n",
    "frames = simulate(g, colony)\n",
    "# display(frames)"
   ]
  },
  {
   "cell_type": "code",
   "execution_count": 5,
   "id": "792de515-33a4-4409-9a4c-dd7000974ef9",
   "metadata": {
    "tags": []
   },
   "outputs": [
    {
     "name": "stdout",
     "output_type": "stream",
     "text": [
      "(300, 400, 1)\n"
     ]
    },
    {
     "data": {
      "application/vnd.jupyter.widget-view+json": {
       "model_id": "08c33f6425ba4a9f9cd843e96169bde7",
       "version_major": 2,
       "version_minor": 0
      },
      "text/plain": [
       "VBox(children=(IntSlider(value=0, max=599), Canvas(toolbar=Toolbar(toolitems=[('Home', 'Reset original view', …"
      ]
     },
     "execution_count": 5,
     "metadata": {},
     "output_type": "execute_result"
    }
   ],
   "source": [
    "%matplotlib widget\n",
    "# %matplotlib auto\n",
    "\n",
    "\n",
    "def update(change):\n",
    "    im.set_data(frames[change['new']])\n",
    "    fig.canvas.draw_idle()\n",
    "# def display(frames):\n",
    "with plt.ioff():\n",
    "    fig = plt.figure()\n",
    "    print(frames[0].shape)\n",
    "im = plt.imshow(frames[0])\n",
    "\n",
    "slider = widgets.IntSlider(value=0, min=0, max=frames.shape[0]-1)\n",
    "slider.observe(update, names='value')\n",
    "widgets.VBox([slider, fig.canvas])\n"
   ]
  },
  {
   "cell_type": "code",
   "execution_count": null,
   "id": "3814d23d-0568-4394-8cd5-1d526c774c4a",
   "metadata": {
    "tags": []
   },
   "outputs": [],
   "source": [
    "%timeit simulate(g, colony)"
   ]
  },
  {
   "cell_type": "code",
   "execution_count": null,
   "id": "7bfbd2ee-8d22-4fd4-b375-cfb80c42a1db",
   "metadata": {},
   "outputs": [],
   "source": [
    "# always have x and y coordinates within -1<x<1\n",
    "# coordinates represent \n",
    "# then conversion to pixels is simple "
   ]
  },
  {
   "cell_type": "code",
   "execution_count": null,
   "id": "ac2e3727-43c5-4bb9-b041-0cd737a4e77a",
   "metadata": {
    "tags": []
   },
   "outputs": [],
   "source": [
    "# pheromones is array of velocity vectors. This array may be smaller than position grid and should have dimensions that are factors of corresponding position grid.\n",
    "# should support the following functions: \n",
    "#     ant position (float x, y between -1, 1) -> phermone vector"
   ]
  },
  {
   "cell_type": "code",
   "execution_count": null,
   "id": "fe2d610f-6e8c-49e5-a01c-4053d44b7989",
   "metadata": {},
   "outputs": [],
   "source": []
  },
  {
   "cell_type": "code",
   "execution_count": null,
   "id": "252ac6ac-4f13-4c06-946c-1ce085f83ec3",
   "metadata": {},
   "outputs": [],
   "source": [
    "# x * y * i * j * bool \n",
    "    # = np.zeros((self.ydim, \n",
    "nx, ny = (200, 200)\n",
    "\n",
    "x = np.linspace(-1, 1, nx)\n",
    "\n",
    "y = np.linspace(-1, 1, ny)\n",
    "\n",
    "xv, yv = np.meshgrid(x, y)"
   ]
  },
  {
   "cell_type": "code",
   "execution_count": null,
   "id": "b2735174-ac36-4ed8-a0f1-99181cc45c38",
   "metadata": {
    "tags": []
   },
   "outputs": [],
   "source": [
    "phermone_map = np.zeros((x.shape[0], y.shape[0], 2))"
   ]
  },
  {
   "cell_type": "code",
   "execution_count": null,
   "id": "568c8b41-4904-43d7-9756-212ced526617",
   "metadata": {
    "tags": []
   },
   "outputs": [],
   "source": [
    "data.shape"
   ]
  },
  {
   "cell_type": "code",
   "execution_count": null,
   "id": "b01f8d2f-75d0-4268-9a83-453d4238bcef",
   "metadata": {},
   "outputs": [],
   "source": [
    "\n",
    "# %matplotlib auto\n",
    "\n",
    "# The result of meshgrid is a coordinate grid:\n",
    "\n",
    "# import matplotlib.pyplot as plt\n",
    "plt.close(fig)\n",
    "plt.close()\n",
    "\n",
    "plt.plot(xv, yv, marker='o', color='k', linestyle='none', markersize=1)\n",
    "\n",
    "plt.show()\n",
    "# plt.close()\n"
   ]
  },
  {
   "cell_type": "code",
   "execution_count": null,
   "id": "1b8c7aae-670b-4c11-8580-882d445148b4",
   "metadata": {
    "tags": []
   },
   "outputs": [],
   "source": [
    "plt.close()\n"
   ]
  },
  {
   "cell_type": "code",
   "execution_count": null,
   "id": "d624f294-97a3-4663-baee-cdda50e37b90",
   "metadata": {
    "tags": []
   },
   "outputs": [],
   "source": [
    "xv.shape"
   ]
  },
  {
   "cell_type": "code",
   "execution_count": null,
   "id": "37c02e98-3c21-49ad-9d8c-7621da544228",
   "metadata": {
    "tags": []
   },
   "outputs": [],
   "source": [
    "nx, ny = (20, 20)\n",
    "\n",
    "#Array indicies:\n",
    "X, Y = np.meshgrid(np.linspace(-1, 1, nx),\n",
    "                   np.linspace(-1, 1, ny))\n",
    "#Array values\n",
    "U = -.2*X\n",
    "V = .5*Y\n",
    "\n",
    "plt.figure()\n",
    "# plt.title('Arrows scale with plot width, not view')\n",
    "# Q = plt.quiver(X, Y, U, V, units='width')\n",
    "# plt.scatter(X[::4, ::3], Y[::4, ::3], color='r', s=5)\n",
    "M = np.hypot(U[::3, ::3], V[::3, ::3])\n",
    "Q = plt.quiver(X[::3, ::3], Y[::3, ::3], U[::3, ::3], V[::3, ::3], M, units='x', pivot='mid',\n",
    "               scale=1 / 0.15)"
   ]
  },
  {
   "cell_type": "code",
   "execution_count": null,
   "id": "c4ffbfd0-e306-41d6-bcdb-7c2c8585ebc2",
   "metadata": {
    "tags": []
   },
   "outputs": [],
   "source": [
    "lower_bound = -1\n",
    "upper_bound = 1\n",
    "xdim = 10\n",
    "ydim = xdim\n",
    "grid_res = 50\n",
    "\n",
    "x, y = np.meshgrid(np.linspace(lower_bound, upper_bound, xdim), np.linspace(lower_bound, upper_bound, ydim))\n",
    "z = np.sin(x) + np.cos(y)\n",
    "# print(z.shape)\n",
    "# plt.plot(x, y, z, marker='o', color='k', linestyle='none', markersize=1)\n",
    "# plt.show()\n",
    "# x = np.linspace(lower_bound, upper_bound, 200)\n",
    "bins = np.linspace(lower_bound, upper_bound, grid_res)\n",
    "\n",
    "x_ind = np.digitize(.8, bins, right=False)\n",
    "y_ind = np.digitize(.76, bins, right=False)\n",
    "bins"
   ]
  },
  {
   "cell_type": "code",
   "execution_count": null,
   "id": "1c3803b6-e536-4fc1-83ee-fd64bfe8c06e",
   "metadata": {
    "tags": []
   },
   "outputs": [],
   "source": [
    "x, y"
   ]
  },
  {
   "cell_type": "code",
   "execution_count": null,
   "id": "76e9c5e0-c90d-419b-a043-5d0cc06b390d",
   "metadata": {
    "tags": []
   },
   "outputs": [],
   "source": [
    "x_ind, y_ind"
   ]
  },
  {
   "cell_type": "code",
   "execution_count": null,
   "id": "01ff8481-1033-4c04-b23c-4f05af185096",
   "metadata": {
    "tags": []
   },
   "outputs": [],
   "source": [
    "x_ind.shape"
   ]
  },
  {
   "cell_type": "code",
   "execution_count": null,
   "id": "b31e190c-c739-40d9-8b36-9ff03a791727",
   "metadata": {
    "tags": []
   },
   "outputs": [],
   "source": [
    "foo = np.meshgrid(np.linspace(lower_bound, upper_bound, xdim), np.linspace(lower_bound, upper_bound, ydim))\n"
   ]
  },
  {
   "cell_type": "code",
   "execution_count": null,
   "id": "cade767d-bdc8-45ff-87d6-74910a4d6faa",
   "metadata": {
    "tags": []
   },
   "outputs": [],
   "source": [
    "len(foo)"
   ]
  },
  {
   "cell_type": "code",
   "execution_count": null,
   "id": "ece57158-6738-4cf1-85ad-cb42e4fb52d9",
   "metadata": {
    "tags": []
   },
   "outputs": [],
   "source": [
    "foo[0].shape"
   ]
  },
  {
   "cell_type": "code",
   "execution_count": null,
   "id": "109853dd-aee6-4db2-80fa-12b7e780c4fc",
   "metadata": {},
   "outputs": [],
   "source": []
  }
 ],
 "metadata": {
  "kernelspec": {
   "display_name": "Python 3 (ipykernel)",
   "language": "python",
   "name": "python3"
  },
  "language_info": {
   "codemirror_mode": {
    "name": "ipython",
    "version": 3
   },
   "file_extension": ".py",
   "mimetype": "text/x-python",
   "name": "python",
   "nbconvert_exporter": "python",
   "pygments_lexer": "ipython3",
   "version": "3.11.3"
  }
 },
 "nbformat": 4,
 "nbformat_minor": 5
}
