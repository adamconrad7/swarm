{
 "cells": [
  {
   "cell_type": "code",
   "execution_count": 1,
   "id": "2b0c53ab-a170-4dd2-9355-a796a2357130",
   "metadata": {
    "tags": []
   },
   "outputs": [],
   "source": [
    "from matplotlib import pyplot as plt\n",
    "import numpy as np\n",
    "import json\n",
    "import ipywidgets as widgets\n",
    "%matplotlib widget"
   ]
  },
  {
   "cell_type": "code",
   "execution_count": 274,
   "id": "41dcc81b-f167-43e3-b99f-12c6f5636c87",
   "metadata": {
    "tags": []
   },
   "outputs": [],
   "source": [
    "class Ant():\n",
    "    def __init__(self): \n",
    "        self.pos = np.zeros((2,))\n",
    "        self.v = np.ones((2,))\n",
    "        self.v /= 700\n",
    "        self.has_food = False\n",
    "        \n",
    "    def move(self):\n",
    "    # ant checks for pheromones\n",
    "        \n",
    "        # print(self.pos)\n",
    "        # assert(self.v < 1)\n",
    "        self.pos += self.v\n",
    "    \n",
    "    ## return position for the query to be processed by pher. grid\n",
    "    def check_phermones(self):\n",
    "        return self.pos\n",
    "    \n",
    "    def check_food(self):\n",
    "        return self.has_food\n",
    "    \n",
    "    def update(self):\n",
    "        accl = np.random.randn(2, 1)\n",
    "        accl /= np.linalg.norm(accl, axis=0)\n",
    "        accl /= 10000\n",
    "        # print(np.squeeze(accl))/\n",
    "        self.v += np.squeeze(accl)\n",
    "        self.move()\n",
    "        \n"
   ]
  },
  {
   "cell_type": "code",
   "execution_count": 275,
   "id": "fececd59-48dc-473a-a052-67a8ea55db20",
   "metadata": {
    "tags": []
   },
   "outputs": [],
   "source": [
    "class Grid:\n",
    "    \n",
    "    # def __init__(steps, xdim, ydim, decay, grid, size, phermone_grid, config_path, self):\n",
    "    def __init__(self, steps, xdim, ydim, decay, scale, phermone_granularity):\n",
    "    \n",
    "        self.steps = steps\n",
    "        self.xdim = xdim\n",
    "        self.ydim = ydim\n",
    "        self.decay = decay\n",
    "        self.size = scale\n",
    "        self.grid = np.zeros((self.ydim, \n",
    "                              self.xdim,\n",
    "                             3\n",
    "                             ))\n",
    "        self.phermone_granularity = phermone_granularity \n",
    "        self.phermone_grid = np.zeros((self.xdim//self.phermone_granularity,\n",
    "                                    self.ydim//self.phermone_granularity,\n",
    "                                      2))\n",
    "        \n",
    "    # geo-coordinates to grid indicies (pixels)\n",
    "    def pos_to_pixel(self, pos):\n",
    "        if pos[0] > 1:\n",
    "            pos[0] -= 2\n",
    "        elif pos[0] < -1:\n",
    "            pos[0] += 2\n",
    "        elif pos[1] > 1:\n",
    "            pos[1] -= 2\n",
    "        elif pos[1] < -1:\n",
    "            pos[1] += 2\n",
    "            # print(pos)\n",
    "        x = pos[0] * (self.xdim //2) + (self.xdim //2)\n",
    "        y = pos[1] * (self.ydim //2) + (self.ydim //2)\n",
    "        return (x, y)\n",
    "    \n",
    "    # modify grid here\n",
    "    def draw(self, pos, val):\n",
    "        \n",
    "        # draw ants\n",
    "        x, y = self.pos_to_pixel(pos)\n",
    "        y *= -1\n",
    "        self.grid[int(y-self.size/2):int(y+self.size/2), \n",
    "                  int(x-self.size/2):int(x+self.size/2), \n",
    "                  0\n",
    "                 ] = val   \n",
    "        \n",
    "        # draw phermones\n",
    "        # need to transform (expand) phermone cells to grid cells using phermone granularity\n",
    "        grid_pos = self.pos_to_pixel(pos)\n",
    "        \n",
    "        self.grid[\n",
    "          int(-1*grid_pos[1]-self.size/2):int(-1*grid_pos[1]+self.size/2), \n",
    "          int(grid_pos[0]-self.size/2):int(grid_pos[0]+self.size/2), \n",
    "          1\n",
    "         ] = val   \n",
    "        # phermone_coords = (grid_pos[0]/self.phermone_granularity, grid_pos[1]/self.phermone_granularity)\n",
    "        # x_ph, y_ph = int(phermone_coords[0]), int(phermone_coords[1])\n",
    "        # self.phermone_grid[x_ph, y_ph] = 1\n",
    "        \n",
    "        \n",
    "    ### TODO Implement \n",
    "    def decayfunc(self):\n",
    "        # print(self.grid[...,0].shape)\n",
    "#         self.grid[np.nonzero(self.grid)] -=  (self.decay) / 255\n",
    "#         self.grid = np.where(self.grid <0.0, 0.0, self.grid)\n",
    "\n",
    "        # print(self.grid.shape)\n",
    "        # print(self.grid[...,0].shape)\n",
    "        # print(len(np.nonzero(self.grid[...,0])[0]))\n",
    "        # print(len(np.nonzero(self.grid[...,1])[0]))\n",
    "        # print(self.grid[np.nonzero(self.grid[...,1])].shape)\n",
    "        # print(self.grid[np.nonzero(self.grid[...,0])].shape, '\\n\\n')\n",
    "        \n",
    "        # print(self.grid[np.nonzero(self.grid[...,0])[1]].shape)\n",
    "        # print(self.grid[np.nonzero(self.grid[...,0])[0]].shape, '\\n\\n')\n",
    "        # print(self.grid[np.nonzero(self.grid[...,0])[1]].shape)\n",
    "        # print(self.grid[np.nonzero(self.grid[...,0])].shape)\n",
    "        # print(self.grid[np.nonzero(self.grid[...,0])])\n",
    "        # print(len(np.nonzero(self.grid[...,1])[0]), '\\n\\n')\n",
    "        inds0 = np.nonzero(self.grid[...,0])\n",
    "        inds1 = np.nonzero(self.grid[...,1])\n",
    "        \n",
    "        # inds = np.nonzero(self.grid[...,0])\n",
    "        \n",
    "        inds_full = np.nonzero(self.grid)\n",
    "        \n",
    "        # self.grid[np.nonzero(self.grid[...,0])] -=  (self.decay) / 255\n",
    "        self.grid[inds0[0], inds0[1], 0] -=  (self.decay) / 255\n",
    "        self.grid[inds1[0], inds1[1], 1] -=  (self.decay) / (255*2)\n",
    "        # self.grid[inds0[0], inds0[1], 1] -=  (self.decay) / (255*5)\n",
    "\n",
    "        \n",
    "        \n",
    "        \n",
    "        \n",
    "        # self.grid[np.nonzero(self.grid[...,1])] -=  (self.decay) / (255*1000)\n",
    "        # self.grid[np.nonzero(self.grid[...,2])] -=  (self.decay) / (255)\n",
    "        # print( self.grid[np.nonzero(self.grid[...,0])[0], np.nonzero(self.grid[...,0])[1], 0].shape)\n",
    "        # print( self.grid[inds[0], inds[1], 0].shape)\n",
    "        # print( self.grid[inds_full[0], inds_full[1], 0].shape)\n",
    "        \n",
    "        # self.grid[inds[0], inds[1], 0]\n",
    "        \n",
    "        # print( self.grid[np.nonzero(self.grid[...,0]), 0].shape)\n",
    "        \n",
    "        \n",
    "        # print( self.grid[np.nonzero(self.grid[...,0])[1]].shape)\n",
    "        # print( self.grid[np.nonzero(self.grid[...,0])[2]].shape)\n",
    "        \n",
    "        \n",
    "        \n",
    "#         print( self.grid[np.nonzero(self.grid[...,0])].shape)\n",
    "        \n",
    "#         # if anything is negative, set it to zero (clip)\n",
    "#         # self.grid = np.where(np.all(self.grid), 0.0, self.grid)\n",
    "#         print('positive pix. in first channel:', len(self.grid[self.grid[...,0] > 0.0]))\n",
    "#         print('positive pix. in first channel:', len(np.nonzero(self.grid[...,0])[0]))\n",
    "        \n",
    "#         print('positive pix. in second channel:', len(self.grid[self.grid[...,1] > 0.0]), '\\n')\n",
    "        \n",
    "        self.grid[...,0] = np.where(self.grid[...,0] < 0.0, 0.0, self.grid[...,0])\n",
    "        self.grid[...,1] = np.where(self.grid[...,1] < 0.0, 0.0, self.grid[...,1])\n",
    "        # self.grid[...,2] = np.where(self.grid[...,2] < 0.0, 0.0, self.grid[...,2])\n",
    "        \n",
    "        ## Why is this line necessarry? without it seems every frame is a duplicate of the final frame\n",
    "        # self.grid = np.where(self.grid <0.0, 0.0, self.grid)\n",
    "        \n",
    "        \n",
    "        \n",
    "        \n",
    "        \n",
    "        \n",
    "    def process_pos(self, pos, full):\n",
    "        \n",
    "        # get current phermone vector, or create one if we're the first to be here\n",
    "        grid_pos = self.pos_to_pixel(pos)\n",
    "        phermone_coords = (grid_pos[0]/self.phermone_granularity, grid_pos[1]/self.phermone_granularity)\n",
    "        x_ph, y_ph = int(phermone_coords[0]), int(phermone_coords[1])\n",
    "        v_phermone = self.phermone_grid[x_ph, y_ph]\n",
    "#         print('pos', pos)\n",
    "#         print('grid_pos', grid_pos)\n",
    "#         print('x_ph, y_ph', x_ph, y_ph)\n",
    "#         print('v_phermone', v_phermone)\n",
    "        \n",
    "        \n",
    "        # print(v_phermone)\n",
    "        \n",
    "        # If not been here, set to MAX_STREGTH\n",
    "        # if v_phermone == 0:\n",
    "        if np.all(v_phermone):\n",
    "        \n",
    "            self.phermone_grid[x_ph, y_ph] = 1\n",
    "        \n",
    "        # if had been here, return vector\n",
    "        else:\n",
    "            # print('been here!')\n",
    "            return v_phermone\n",
    "        \n",
    "        # print(np.nonzero(self.phermone_grid[x_ph, y_ph]))\n",
    "        # print(len(np.nonzero(self.phermone_grid[x_ph, y_ph])))\n",
    "        # if len(self.\n",
    "#         if full:\n",
    "#             #set phermone for food\n",
    "#         else\n",
    "        \n",
    "#             # set phermone for home\n",
    "        # print(\n",
    "        # print(grid_pos)\n",
    "        # print(phermone_coords)\n",
    "        # print('\\n\\n')\n",
    "        \n",
    "        \n",
    "        "
   ]
  },
  {
   "cell_type": "code",
   "execution_count": 276,
   "id": "5162a2a1-4646-4ba4-b6ed-8a14c714d98e",
   "metadata": {
    "tags": []
   },
   "outputs": [],
   "source": [
    "import copy\n",
    "def simulate(grid, colony): \n",
    "    frames = []\n",
    "\n",
    "    for t in range(grid.steps):\n",
    "        for a in colony:\n",
    "          \n",
    "            # check for phermone vector\n",
    "            grid.process_pos(a.check_phermones(), a.check_food())\n",
    "            \n",
    "            grid.draw(a.pos, 1)\n",
    "            a.update()\n",
    "        # print(grid.grid.shape)\n",
    "        # frame = grid.grid\n",
    "        \n",
    "        frames.append(copy.deepcopy(grid.grid))\n",
    "        grid.decayfunc()\n",
    "\n",
    "    frames = np.array(frames)\n",
    "    return frames\n",
    "\n",
    "\n",
    "# g = Grid('config.json')\n",
    "f = open('config.json', \"rb\")\n",
    "config = json.load(f)\n",
    "\n",
    "g = Grid(ydim= config['ydim'], \n",
    "         xdim= config['xdim'],\n",
    "        decay=config['decay'],\n",
    "         scale=config['scale'],\n",
    "         steps=config['steps'],\n",
    "         phermone_granularity=config['phermone_granularity'])\n",
    "\n",
    "\n",
    "colony = []\n",
    "for i in range(0, 100):\n",
    "    colony.append(Ant())\n",
    "\n",
    "frames = simulate(g, colony)"
   ]
  },
  {
   "cell_type": "code",
   "execution_count": 277,
   "id": "f9cfab8e-2022-44f2-bd2c-dede208a98bb",
   "metadata": {
    "tags": []
   },
   "outputs": [
    {
     "name": "stdout",
     "output_type": "stream",
     "text": [
      "(600, 800, 3)\n"
     ]
    },
    {
     "data": {
      "application/vnd.jupyter.widget-view+json": {
       "model_id": "fd2911ed1d4c423eb5d124496cabc92b",
       "version_major": 2,
       "version_minor": 0
      },
      "text/plain": [
       "VBox(children=(IntSlider(value=0, max=999), Canvas(toolbar=Toolbar(toolitems=[('Home', 'Reset original view', …"
      ]
     },
     "execution_count": 277,
     "metadata": {},
     "output_type": "execute_result"
    }
   ],
   "source": [
    "with plt.ioff():\n",
    "    fig = plt.figure()\n",
    "print(frames[0].shape)\n",
    "im = plt.imshow(frames[0])\n",
    "def update(change):\n",
    "    im.set_data(frames[change['new']])\n",
    "    fig.canvas.draw_idle()\n",
    "slider = widgets.IntSlider(value=0, min=0, max=frames.shape[0]-1)\n",
    "slider.observe(update, names='value')\n",
    "widgets.VBox([slider, fig.canvas])# fig.close()"
   ]
  },
  {
   "cell_type": "code",
   "execution_count": 66,
   "id": "3814d23d-0568-4394-8cd5-1d526c774c4a",
   "metadata": {
    "collapsed": true,
    "jupyter": {
     "outputs_hidden": true
    },
    "tags": []
   },
   "outputs": [
    {
     "ename": "TypeError",
     "evalue": "Grid.__init__() missing 5 required positional arguments: 'xdim', 'ydim', 'decay', 'scale', and 'phermone_granularity'",
     "output_type": "error",
     "traceback": [
      "\u001b[0;31m---------------------------------------------------------------------------\u001b[0m",
      "\u001b[0;31mTypeError\u001b[0m                                 Traceback (most recent call last)",
      "Cell \u001b[0;32mIn[66], line 1\u001b[0m\n\u001b[0;32m----> 1\u001b[0m g \u001b[38;5;241m=\u001b[39m \u001b[43mGrid\u001b[49m\u001b[43m(\u001b[49m\u001b[38;5;124;43m'\u001b[39;49m\u001b[38;5;124;43mconfig.json\u001b[39;49m\u001b[38;5;124;43m'\u001b[39;49m\u001b[43m)\u001b[49m\n\u001b[1;32m      2\u001b[0m colony \u001b[38;5;241m=\u001b[39m []\n\u001b[1;32m      3\u001b[0m \u001b[38;5;28;01mfor\u001b[39;00m i \u001b[38;5;129;01min\u001b[39;00m \u001b[38;5;28mrange\u001b[39m(\u001b[38;5;241m0\u001b[39m, \u001b[38;5;241m1000\u001b[39m):\n",
      "\u001b[0;31mTypeError\u001b[0m: Grid.__init__() missing 5 required positional arguments: 'xdim', 'ydim', 'decay', 'scale', and 'phermone_granularity'"
     ]
    }
   ],
   "source": [
    "g = Grid('config.json')\n",
    "colony = []\n",
    "for i in range(0, 1000):\n",
    "    colony.append(Mover())\n",
    "%timeit simulate(g, colony)"
   ]
  },
  {
   "cell_type": "code",
   "execution_count": null,
   "id": "7bfbd2ee-8d22-4fd4-b375-cfb80c42a1db",
   "metadata": {},
   "outputs": [],
   "source": [
    "# always have x and y coordinates within -1<x<1\n",
    "# coordinates represent \n",
    "# then conversion to pixels is simple "
   ]
  },
  {
   "cell_type": "code",
   "execution_count": null,
   "id": "a9191616-a5bb-4da7-b40c-1e06800aaf07",
   "metadata": {},
   "outputs": [],
   "source": [
    "# almaz 305 989 6629\n",
    "     \n",
    "# leah "
   ]
  },
  {
   "cell_type": "code",
   "execution_count": null,
   "id": "ac2e3727-43c5-4bb9-b041-0cd737a4e77a",
   "metadata": {
    "tags": []
   },
   "outputs": [],
   "source": [
    "# pheromones is array of velocity vectors. This array may be smaller than position grid and should have dimensions that are factors of corresponding position grid.\n",
    "# should support the following functions: \n",
    "#     ant position (float x, y between -1, 1) -> phermone vector"
   ]
  }
 ],
 "metadata": {
  "kernelspec": {
   "display_name": "Python 3 (ipykernel)",
   "language": "python",
   "name": "python3"
  },
  "language_info": {
   "codemirror_mode": {
    "name": "ipython",
    "version": 3
   },
   "file_extension": ".py",
   "mimetype": "text/x-python",
   "name": "python",
   "nbconvert_exporter": "python",
   "pygments_lexer": "ipython3",
   "version": "3.11.3"
  }
 },
 "nbformat": 4,
 "nbformat_minor": 5
}
